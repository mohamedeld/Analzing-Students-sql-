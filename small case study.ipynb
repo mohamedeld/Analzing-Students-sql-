{
 "cells": [
  {
   "cell_type": "markdown",
   "id": "4274c47b",
   "metadata": {},
   "source": [
    "## import libraries"
   ]
  },
  {
   "cell_type": "code",
   "execution_count": 35,
   "id": "67333957",
   "metadata": {},
   "outputs": [],
   "source": [
    "import pandas as pd\n",
    "import sqlite3"
   ]
  },
  {
   "cell_type": "markdown",
   "id": "efaf6c1c",
   "metadata": {},
   "source": [
    "### connect to database"
   ]
  },
  {
   "cell_type": "code",
   "execution_count": 14,
   "id": "5683ba1f",
   "metadata": {},
   "outputs": [],
   "source": [
    "conn = sqlite3.connect(\"students.sqlite\")"
   ]
  },
  {
   "cell_type": "markdown",
   "id": "61be99a7",
   "metadata": {},
   "source": [
    "### read database"
   ]
  },
  {
   "cell_type": "code",
   "execution_count": 16,
   "id": "2dd85e78",
   "metadata": {},
   "outputs": [
    {
     "data": {
      "text/html": [
       "<div>\n",
       "<style scoped>\n",
       "    .dataframe tbody tr th:only-of-type {\n",
       "        vertical-align: middle;\n",
       "    }\n",
       "\n",
       "    .dataframe tbody tr th {\n",
       "        vertical-align: top;\n",
       "    }\n",
       "\n",
       "    .dataframe thead th {\n",
       "        text-align: right;\n",
       "    }\n",
       "</style>\n",
       "<table border=\"1\" class=\"dataframe\">\n",
       "  <thead>\n",
       "    <tr style=\"text-align: right;\">\n",
       "      <th></th>\n",
       "      <th>first_name</th>\n",
       "      <th>last_name</th>\n",
       "      <th>country</th>\n",
       "      <th>age</th>\n",
       "      <th>topic</th>\n",
       "      <th>grade</th>\n",
       "    </tr>\n",
       "  </thead>\n",
       "  <tbody>\n",
       "    <tr>\n",
       "      <th>0</th>\n",
       "      <td>Mustafa</td>\n",
       "      <td>Othman</td>\n",
       "      <td>EGY</td>\n",
       "      <td>34.0</td>\n",
       "      <td>Data Science</td>\n",
       "      <td>17.5</td>\n",
       "    </tr>\n",
       "    <tr>\n",
       "      <th>1</th>\n",
       "      <td>Omnia</td>\n",
       "      <td>Abdullah</td>\n",
       "      <td>KSA</td>\n",
       "      <td>28.0</td>\n",
       "      <td>Data Analysis</td>\n",
       "      <td>20.0</td>\n",
       "    </tr>\n",
       "    <tr>\n",
       "      <th>2</th>\n",
       "      <td>Siddik</td>\n",
       "      <td>Burhan</td>\n",
       "      <td>ESP</td>\n",
       "      <td>45.0</td>\n",
       "      <td>Data Analysis</td>\n",
       "      <td>19.0</td>\n",
       "    </tr>\n",
       "    <tr>\n",
       "      <th>3</th>\n",
       "      <td>Ahmed</td>\n",
       "      <td>Radwan</td>\n",
       "      <td>PSE</td>\n",
       "      <td>32.0</td>\n",
       "      <td>Data Engineering</td>\n",
       "      <td>14.25</td>\n",
       "    </tr>\n",
       "    <tr>\n",
       "      <th>4</th>\n",
       "      <td>Mariam</td>\n",
       "      <td>Mazen</td>\n",
       "      <td>EGY</td>\n",
       "      <td>18.0</td>\n",
       "      <td>Data Science</td>\n",
       "      <td>20.0</td>\n",
       "    </tr>\n",
       "    <tr>\n",
       "      <th>5</th>\n",
       "      <td>Mustafa</td>\n",
       "      <td>Jalil</td>\n",
       "      <td>MAR</td>\n",
       "      <td>36.0</td>\n",
       "      <td>Data Analysis</td>\n",
       "      <td>12.5</td>\n",
       "    </tr>\n",
       "  </tbody>\n",
       "</table>\n",
       "</div>"
      ],
      "text/plain": [
       "  first_name last_name country   age             topic  grade\n",
       "0    Mustafa    Othman     EGY  34.0      Data Science   17.5\n",
       "1      Omnia  Abdullah     KSA  28.0     Data Analysis   20.0\n",
       "2     Siddik    Burhan     ESP  45.0     Data Analysis   19.0\n",
       "3      Ahmed    Radwan     PSE  32.0  Data Engineering  14.25\n",
       "4     Mariam     Mazen     EGY  18.0      Data Science   20.0\n",
       "5    Mustafa     Jalil     MAR  36.0     Data Analysis   12.5"
      ]
     },
     "execution_count": 16,
     "metadata": {},
     "output_type": "execute_result"
    }
   ],
   "source": [
    "pd.read_sql('select * from students',con=conn)"
   ]
  },
  {
   "cell_type": "markdown",
   "id": "4bf1f259",
   "metadata": {},
   "source": [
    "### provide query showing first_name"
   ]
  },
  {
   "cell_type": "code",
   "execution_count": 19,
   "id": "95c3ee5d",
   "metadata": {},
   "outputs": [
    {
     "data": {
      "text/html": [
       "<div>\n",
       "<style scoped>\n",
       "    .dataframe tbody tr th:only-of-type {\n",
       "        vertical-align: middle;\n",
       "    }\n",
       "\n",
       "    .dataframe tbody tr th {\n",
       "        vertical-align: top;\n",
       "    }\n",
       "\n",
       "    .dataframe thead th {\n",
       "        text-align: right;\n",
       "    }\n",
       "</style>\n",
       "<table border=\"1\" class=\"dataframe\">\n",
       "  <thead>\n",
       "    <tr style=\"text-align: right;\">\n",
       "      <th></th>\n",
       "      <th>count(first_name)</th>\n",
       "    </tr>\n",
       "  </thead>\n",
       "  <tbody>\n",
       "    <tr>\n",
       "      <th>0</th>\n",
       "      <td>6</td>\n",
       "    </tr>\n",
       "  </tbody>\n",
       "</table>\n",
       "</div>"
      ],
      "text/plain": [
       "   count(first_name)\n",
       "0                  6"
      ]
     },
     "execution_count": 19,
     "metadata": {},
     "output_type": "execute_result"
    }
   ],
   "source": [
    "pd.read_sql(\"select count(first_name) from students\",con=conn)"
   ]
  },
  {
   "cell_type": "markdown",
   "id": "7deeb240",
   "metadata": {},
   "source": [
    "### show first_names which started with M"
   ]
  },
  {
   "cell_type": "code",
   "execution_count": 20,
   "id": "8435a0d3",
   "metadata": {},
   "outputs": [
    {
     "data": {
      "text/html": [
       "<div>\n",
       "<style scoped>\n",
       "    .dataframe tbody tr th:only-of-type {\n",
       "        vertical-align: middle;\n",
       "    }\n",
       "\n",
       "    .dataframe tbody tr th {\n",
       "        vertical-align: top;\n",
       "    }\n",
       "\n",
       "    .dataframe thead th {\n",
       "        text-align: right;\n",
       "    }\n",
       "</style>\n",
       "<table border=\"1\" class=\"dataframe\">\n",
       "  <thead>\n",
       "    <tr style=\"text-align: right;\">\n",
       "      <th></th>\n",
       "      <th>first_name</th>\n",
       "      <th>last_name</th>\n",
       "      <th>country</th>\n",
       "      <th>age</th>\n",
       "      <th>topic</th>\n",
       "      <th>grade</th>\n",
       "    </tr>\n",
       "  </thead>\n",
       "  <tbody>\n",
       "    <tr>\n",
       "      <th>0</th>\n",
       "      <td>Mustafa</td>\n",
       "      <td>Othman</td>\n",
       "      <td>EGY</td>\n",
       "      <td>34.0</td>\n",
       "      <td>Data Science</td>\n",
       "      <td>17.5</td>\n",
       "    </tr>\n",
       "    <tr>\n",
       "      <th>1</th>\n",
       "      <td>Mariam</td>\n",
       "      <td>Mazen</td>\n",
       "      <td>EGY</td>\n",
       "      <td>18.0</td>\n",
       "      <td>Data Science</td>\n",
       "      <td>20.0</td>\n",
       "    </tr>\n",
       "    <tr>\n",
       "      <th>2</th>\n",
       "      <td>Mustafa</td>\n",
       "      <td>Jalil</td>\n",
       "      <td>MAR</td>\n",
       "      <td>36.0</td>\n",
       "      <td>Data Analysis</td>\n",
       "      <td>12.5</td>\n",
       "    </tr>\n",
       "  </tbody>\n",
       "</table>\n",
       "</div>"
      ],
      "text/plain": [
       "  first_name last_name country   age          topic grade\n",
       "0    Mustafa    Othman     EGY  34.0   Data Science  17.5\n",
       "1     Mariam     Mazen     EGY  18.0   Data Science  20.0\n",
       "2    Mustafa     Jalil     MAR  36.0  Data Analysis  12.5"
      ]
     },
     "execution_count": 20,
     "metadata": {},
     "output_type": "execute_result"
    }
   ],
   "source": [
    "pd.read_sql(\"select * from students where first_name like 'M%' \",con=conn)"
   ]
  },
  {
   "cell_type": "markdown",
   "id": "7768aa4a",
   "metadata": {},
   "source": [
    "### provide all topic which belong to data analysis"
   ]
  },
  {
   "cell_type": "code",
   "execution_count": 21,
   "id": "283b05e5",
   "metadata": {},
   "outputs": [
    {
     "data": {
      "text/html": [
       "<div>\n",
       "<style scoped>\n",
       "    .dataframe tbody tr th:only-of-type {\n",
       "        vertical-align: middle;\n",
       "    }\n",
       "\n",
       "    .dataframe tbody tr th {\n",
       "        vertical-align: top;\n",
       "    }\n",
       "\n",
       "    .dataframe thead th {\n",
       "        text-align: right;\n",
       "    }\n",
       "</style>\n",
       "<table border=\"1\" class=\"dataframe\">\n",
       "  <thead>\n",
       "    <tr style=\"text-align: right;\">\n",
       "      <th></th>\n",
       "      <th>first_name</th>\n",
       "      <th>last_name</th>\n",
       "      <th>country</th>\n",
       "      <th>age</th>\n",
       "      <th>topic</th>\n",
       "      <th>grade</th>\n",
       "    </tr>\n",
       "  </thead>\n",
       "  <tbody>\n",
       "    <tr>\n",
       "      <th>0</th>\n",
       "      <td>Omnia</td>\n",
       "      <td>Abdullah</td>\n",
       "      <td>KSA</td>\n",
       "      <td>28.0</td>\n",
       "      <td>Data Analysis</td>\n",
       "      <td>20.0</td>\n",
       "    </tr>\n",
       "    <tr>\n",
       "      <th>1</th>\n",
       "      <td>Siddik</td>\n",
       "      <td>Burhan</td>\n",
       "      <td>ESP</td>\n",
       "      <td>45.0</td>\n",
       "      <td>Data Analysis</td>\n",
       "      <td>19.0</td>\n",
       "    </tr>\n",
       "    <tr>\n",
       "      <th>2</th>\n",
       "      <td>Mustafa</td>\n",
       "      <td>Jalil</td>\n",
       "      <td>MAR</td>\n",
       "      <td>36.0</td>\n",
       "      <td>Data Analysis</td>\n",
       "      <td>12.5</td>\n",
       "    </tr>\n",
       "  </tbody>\n",
       "</table>\n",
       "</div>"
      ],
      "text/plain": [
       "  first_name last_name country   age          topic grade\n",
       "0      Omnia  Abdullah     KSA  28.0  Data Analysis  20.0\n",
       "1     Siddik    Burhan     ESP  45.0  Data Analysis  19.0\n",
       "2    Mustafa     Jalil     MAR  36.0  Data Analysis  12.5"
      ]
     },
     "execution_count": 21,
     "metadata": {},
     "output_type": "execute_result"
    }
   ],
   "source": [
    "pd.read_sql(\"select * from students where topic = 'Data Analysis' \",con=conn)"
   ]
  },
  {
   "cell_type": "markdown",
   "id": "64eb6c46",
   "metadata": {},
   "source": [
    "### show ages between 18 and 30"
   ]
  },
  {
   "cell_type": "code",
   "execution_count": 25,
   "id": "eccbe978",
   "metadata": {},
   "outputs": [
    {
     "data": {
      "text/html": [
       "<div>\n",
       "<style scoped>\n",
       "    .dataframe tbody tr th:only-of-type {\n",
       "        vertical-align: middle;\n",
       "    }\n",
       "\n",
       "    .dataframe tbody tr th {\n",
       "        vertical-align: top;\n",
       "    }\n",
       "\n",
       "    .dataframe thead th {\n",
       "        text-align: right;\n",
       "    }\n",
       "</style>\n",
       "<table border=\"1\" class=\"dataframe\">\n",
       "  <thead>\n",
       "    <tr style=\"text-align: right;\">\n",
       "      <th></th>\n",
       "      <th>first_name</th>\n",
       "      <th>last_name</th>\n",
       "      <th>country</th>\n",
       "      <th>age</th>\n",
       "      <th>topic</th>\n",
       "      <th>grade</th>\n",
       "    </tr>\n",
       "  </thead>\n",
       "  <tbody>\n",
       "    <tr>\n",
       "      <th>0</th>\n",
       "      <td>Omnia</td>\n",
       "      <td>Abdullah</td>\n",
       "      <td>KSA</td>\n",
       "      <td>28.0</td>\n",
       "      <td>Data Analysis</td>\n",
       "      <td>20.0</td>\n",
       "    </tr>\n",
       "    <tr>\n",
       "      <th>1</th>\n",
       "      <td>Mariam</td>\n",
       "      <td>Mazen</td>\n",
       "      <td>EGY</td>\n",
       "      <td>18.0</td>\n",
       "      <td>Data Science</td>\n",
       "      <td>20.0</td>\n",
       "    </tr>\n",
       "  </tbody>\n",
       "</table>\n",
       "</div>"
      ],
      "text/plain": [
       "  first_name last_name country   age          topic grade\n",
       "0      Omnia  Abdullah     KSA  28.0  Data Analysis  20.0\n",
       "1     Mariam     Mazen     EGY  18.0   Data Science  20.0"
      ]
     },
     "execution_count": 25,
     "metadata": {},
     "output_type": "execute_result"
    }
   ],
   "source": [
    "pd.read_sql(\"select * from students where age between '18' and '30'\",con=conn)"
   ]
  },
  {
   "cell_type": "markdown",
   "id": "5373b747",
   "metadata": {},
   "source": [
    "### provide sum of all grade"
   ]
  },
  {
   "cell_type": "code",
   "execution_count": 26,
   "id": "9bd18980",
   "metadata": {},
   "outputs": [
    {
     "data": {
      "text/html": [
       "<div>\n",
       "<style scoped>\n",
       "    .dataframe tbody tr th:only-of-type {\n",
       "        vertical-align: middle;\n",
       "    }\n",
       "\n",
       "    .dataframe tbody tr th {\n",
       "        vertical-align: top;\n",
       "    }\n",
       "\n",
       "    .dataframe thead th {\n",
       "        text-align: right;\n",
       "    }\n",
       "</style>\n",
       "<table border=\"1\" class=\"dataframe\">\n",
       "  <thead>\n",
       "    <tr style=\"text-align: right;\">\n",
       "      <th></th>\n",
       "      <th>sum(grade)</th>\n",
       "    </tr>\n",
       "  </thead>\n",
       "  <tbody>\n",
       "    <tr>\n",
       "      <th>0</th>\n",
       "      <td>103.25</td>\n",
       "    </tr>\n",
       "  </tbody>\n",
       "</table>\n",
       "</div>"
      ],
      "text/plain": [
       "   sum(grade)\n",
       "0      103.25"
      ]
     },
     "execution_count": 26,
     "metadata": {},
     "output_type": "execute_result"
    }
   ],
   "source": [
    "pd.read_sql(\"select sum(grade) from students\",con=conn)"
   ]
  },
  {
   "cell_type": "markdown",
   "id": "558f3bf1",
   "metadata": {},
   "source": [
    "### select all from EGY"
   ]
  },
  {
   "cell_type": "code",
   "execution_count": 27,
   "id": "ead2597f",
   "metadata": {},
   "outputs": [
    {
     "data": {
      "text/html": [
       "<div>\n",
       "<style scoped>\n",
       "    .dataframe tbody tr th:only-of-type {\n",
       "        vertical-align: middle;\n",
       "    }\n",
       "\n",
       "    .dataframe tbody tr th {\n",
       "        vertical-align: top;\n",
       "    }\n",
       "\n",
       "    .dataframe thead th {\n",
       "        text-align: right;\n",
       "    }\n",
       "</style>\n",
       "<table border=\"1\" class=\"dataframe\">\n",
       "  <thead>\n",
       "    <tr style=\"text-align: right;\">\n",
       "      <th></th>\n",
       "      <th>first_name</th>\n",
       "      <th>last_name</th>\n",
       "      <th>country</th>\n",
       "      <th>age</th>\n",
       "      <th>topic</th>\n",
       "      <th>grade</th>\n",
       "    </tr>\n",
       "  </thead>\n",
       "  <tbody>\n",
       "    <tr>\n",
       "      <th>0</th>\n",
       "      <td>Mustafa</td>\n",
       "      <td>Othman</td>\n",
       "      <td>EGY</td>\n",
       "      <td>34.0</td>\n",
       "      <td>Data Science</td>\n",
       "      <td>17.5</td>\n",
       "    </tr>\n",
       "    <tr>\n",
       "      <th>1</th>\n",
       "      <td>Mariam</td>\n",
       "      <td>Mazen</td>\n",
       "      <td>EGY</td>\n",
       "      <td>18.0</td>\n",
       "      <td>Data Science</td>\n",
       "      <td>20.0</td>\n",
       "    </tr>\n",
       "  </tbody>\n",
       "</table>\n",
       "</div>"
      ],
      "text/plain": [
       "  first_name last_name country   age         topic grade\n",
       "0    Mustafa    Othman     EGY  34.0  Data Science  17.5\n",
       "1     Mariam     Mazen     EGY  18.0  Data Science  20.0"
      ]
     },
     "execution_count": 27,
     "metadata": {},
     "output_type": "execute_result"
    }
   ],
   "source": [
    "pd.read_sql(\"select * from students where country = 'EGY'\",con=conn)"
   ]
  },
  {
   "cell_type": "markdown",
   "id": "cfe24bbb",
   "metadata": {},
   "source": [
    "### select all not in EGY"
   ]
  },
  {
   "cell_type": "code",
   "execution_count": 28,
   "id": "2f481b24",
   "metadata": {},
   "outputs": [
    {
     "data": {
      "text/html": [
       "<div>\n",
       "<style scoped>\n",
       "    .dataframe tbody tr th:only-of-type {\n",
       "        vertical-align: middle;\n",
       "    }\n",
       "\n",
       "    .dataframe tbody tr th {\n",
       "        vertical-align: top;\n",
       "    }\n",
       "\n",
       "    .dataframe thead th {\n",
       "        text-align: right;\n",
       "    }\n",
       "</style>\n",
       "<table border=\"1\" class=\"dataframe\">\n",
       "  <thead>\n",
       "    <tr style=\"text-align: right;\">\n",
       "      <th></th>\n",
       "      <th>first_name</th>\n",
       "      <th>last_name</th>\n",
       "      <th>country</th>\n",
       "      <th>age</th>\n",
       "      <th>topic</th>\n",
       "      <th>grade</th>\n",
       "    </tr>\n",
       "  </thead>\n",
       "  <tbody>\n",
       "    <tr>\n",
       "      <th>0</th>\n",
       "      <td>Omnia</td>\n",
       "      <td>Abdullah</td>\n",
       "      <td>KSA</td>\n",
       "      <td>28.0</td>\n",
       "      <td>Data Analysis</td>\n",
       "      <td>20.0</td>\n",
       "    </tr>\n",
       "    <tr>\n",
       "      <th>1</th>\n",
       "      <td>Siddik</td>\n",
       "      <td>Burhan</td>\n",
       "      <td>ESP</td>\n",
       "      <td>45.0</td>\n",
       "      <td>Data Analysis</td>\n",
       "      <td>19.0</td>\n",
       "    </tr>\n",
       "    <tr>\n",
       "      <th>2</th>\n",
       "      <td>Ahmed</td>\n",
       "      <td>Radwan</td>\n",
       "      <td>PSE</td>\n",
       "      <td>32.0</td>\n",
       "      <td>Data Engineering</td>\n",
       "      <td>14.25</td>\n",
       "    </tr>\n",
       "    <tr>\n",
       "      <th>3</th>\n",
       "      <td>Mustafa</td>\n",
       "      <td>Jalil</td>\n",
       "      <td>MAR</td>\n",
       "      <td>36.0</td>\n",
       "      <td>Data Analysis</td>\n",
       "      <td>12.5</td>\n",
       "    </tr>\n",
       "  </tbody>\n",
       "</table>\n",
       "</div>"
      ],
      "text/plain": [
       "  first_name last_name country   age             topic  grade\n",
       "0      Omnia  Abdullah     KSA  28.0     Data Analysis   20.0\n",
       "1     Siddik    Burhan     ESP  45.0     Data Analysis   19.0\n",
       "2      Ahmed    Radwan     PSE  32.0  Data Engineering  14.25\n",
       "3    Mustafa     Jalil     MAR  36.0     Data Analysis   12.5"
      ]
     },
     "execution_count": 28,
     "metadata": {},
     "output_type": "execute_result"
    }
   ],
   "source": [
    "pd.read_sql(\"select * from students where not country = 'EGY'\",con=conn)"
   ]
  },
  {
   "cell_type": "markdown",
   "id": "14f98e47",
   "metadata": {},
   "source": [
    "### select mean of age"
   ]
  },
  {
   "cell_type": "code",
   "execution_count": 29,
   "id": "af1fe9d0",
   "metadata": {},
   "outputs": [
    {
     "data": {
      "text/html": [
       "<div>\n",
       "<style scoped>\n",
       "    .dataframe tbody tr th:only-of-type {\n",
       "        vertical-align: middle;\n",
       "    }\n",
       "\n",
       "    .dataframe tbody tr th {\n",
       "        vertical-align: top;\n",
       "    }\n",
       "\n",
       "    .dataframe thead th {\n",
       "        text-align: right;\n",
       "    }\n",
       "</style>\n",
       "<table border=\"1\" class=\"dataframe\">\n",
       "  <thead>\n",
       "    <tr style=\"text-align: right;\">\n",
       "      <th></th>\n",
       "      <th>avg(age)</th>\n",
       "    </tr>\n",
       "  </thead>\n",
       "  <tbody>\n",
       "    <tr>\n",
       "      <th>0</th>\n",
       "      <td>32.166667</td>\n",
       "    </tr>\n",
       "  </tbody>\n",
       "</table>\n",
       "</div>"
      ],
      "text/plain": [
       "    avg(age)\n",
       "0  32.166667"
      ]
     },
     "execution_count": 29,
     "metadata": {},
     "output_type": "execute_result"
    }
   ],
   "source": [
    "pd.read_sql(\"select avg(age) from students\",con=conn)"
   ]
  },
  {
   "cell_type": "markdown",
   "id": "7963f662",
   "metadata": {},
   "source": [
    "### select all and order it by age descending"
   ]
  },
  {
   "cell_type": "code",
   "execution_count": 30,
   "id": "9d93246d",
   "metadata": {},
   "outputs": [
    {
     "data": {
      "text/html": [
       "<div>\n",
       "<style scoped>\n",
       "    .dataframe tbody tr th:only-of-type {\n",
       "        vertical-align: middle;\n",
       "    }\n",
       "\n",
       "    .dataframe tbody tr th {\n",
       "        vertical-align: top;\n",
       "    }\n",
       "\n",
       "    .dataframe thead th {\n",
       "        text-align: right;\n",
       "    }\n",
       "</style>\n",
       "<table border=\"1\" class=\"dataframe\">\n",
       "  <thead>\n",
       "    <tr style=\"text-align: right;\">\n",
       "      <th></th>\n",
       "      <th>first_name</th>\n",
       "      <th>last_name</th>\n",
       "      <th>country</th>\n",
       "      <th>age</th>\n",
       "      <th>topic</th>\n",
       "      <th>grade</th>\n",
       "    </tr>\n",
       "  </thead>\n",
       "  <tbody>\n",
       "    <tr>\n",
       "      <th>0</th>\n",
       "      <td>Siddik</td>\n",
       "      <td>Burhan</td>\n",
       "      <td>ESP</td>\n",
       "      <td>45.0</td>\n",
       "      <td>Data Analysis</td>\n",
       "      <td>19.0</td>\n",
       "    </tr>\n",
       "    <tr>\n",
       "      <th>1</th>\n",
       "      <td>Mustafa</td>\n",
       "      <td>Jalil</td>\n",
       "      <td>MAR</td>\n",
       "      <td>36.0</td>\n",
       "      <td>Data Analysis</td>\n",
       "      <td>12.5</td>\n",
       "    </tr>\n",
       "    <tr>\n",
       "      <th>2</th>\n",
       "      <td>Mustafa</td>\n",
       "      <td>Othman</td>\n",
       "      <td>EGY</td>\n",
       "      <td>34.0</td>\n",
       "      <td>Data Science</td>\n",
       "      <td>17.5</td>\n",
       "    </tr>\n",
       "    <tr>\n",
       "      <th>3</th>\n",
       "      <td>Ahmed</td>\n",
       "      <td>Radwan</td>\n",
       "      <td>PSE</td>\n",
       "      <td>32.0</td>\n",
       "      <td>Data Engineering</td>\n",
       "      <td>14.25</td>\n",
       "    </tr>\n",
       "    <tr>\n",
       "      <th>4</th>\n",
       "      <td>Omnia</td>\n",
       "      <td>Abdullah</td>\n",
       "      <td>KSA</td>\n",
       "      <td>28.0</td>\n",
       "      <td>Data Analysis</td>\n",
       "      <td>20.0</td>\n",
       "    </tr>\n",
       "    <tr>\n",
       "      <th>5</th>\n",
       "      <td>Mariam</td>\n",
       "      <td>Mazen</td>\n",
       "      <td>EGY</td>\n",
       "      <td>18.0</td>\n",
       "      <td>Data Science</td>\n",
       "      <td>20.0</td>\n",
       "    </tr>\n",
       "  </tbody>\n",
       "</table>\n",
       "</div>"
      ],
      "text/plain": [
       "  first_name last_name country   age             topic  grade\n",
       "0     Siddik    Burhan     ESP  45.0     Data Analysis   19.0\n",
       "1    Mustafa     Jalil     MAR  36.0     Data Analysis   12.5\n",
       "2    Mustafa    Othman     EGY  34.0      Data Science   17.5\n",
       "3      Ahmed    Radwan     PSE  32.0  Data Engineering  14.25\n",
       "4      Omnia  Abdullah     KSA  28.0     Data Analysis   20.0\n",
       "5     Mariam     Mazen     EGY  18.0      Data Science   20.0"
      ]
     },
     "execution_count": 30,
     "metadata": {},
     "output_type": "execute_result"
    }
   ],
   "source": [
    "pd.read_sql(\"select * from students order by age desc\",con=conn)"
   ]
  },
  {
   "cell_type": "markdown",
   "id": "357457e4",
   "metadata": {},
   "source": [
    "### generate column called full_name which concate first_name with last_name"
   ]
  },
  {
   "cell_type": "code",
   "execution_count": 32,
   "id": "b1ba372b",
   "metadata": {},
   "outputs": [
    {
     "data": {
      "text/html": [
       "<div>\n",
       "<style scoped>\n",
       "    .dataframe tbody tr th:only-of-type {\n",
       "        vertical-align: middle;\n",
       "    }\n",
       "\n",
       "    .dataframe tbody tr th {\n",
       "        vertical-align: top;\n",
       "    }\n",
       "\n",
       "    .dataframe thead th {\n",
       "        text-align: right;\n",
       "    }\n",
       "</style>\n",
       "<table border=\"1\" class=\"dataframe\">\n",
       "  <thead>\n",
       "    <tr style=\"text-align: right;\">\n",
       "      <th></th>\n",
       "      <th>first_name</th>\n",
       "      <th>last_name</th>\n",
       "      <th>full_name</th>\n",
       "    </tr>\n",
       "  </thead>\n",
       "  <tbody>\n",
       "    <tr>\n",
       "      <th>0</th>\n",
       "      <td>Mustafa</td>\n",
       "      <td>Othman</td>\n",
       "      <td>Mustafa Othman</td>\n",
       "    </tr>\n",
       "    <tr>\n",
       "      <th>1</th>\n",
       "      <td>Omnia</td>\n",
       "      <td>Abdullah</td>\n",
       "      <td>Omnia Abdullah</td>\n",
       "    </tr>\n",
       "    <tr>\n",
       "      <th>2</th>\n",
       "      <td>Siddik</td>\n",
       "      <td>Burhan</td>\n",
       "      <td>Siddik Burhan</td>\n",
       "    </tr>\n",
       "    <tr>\n",
       "      <th>3</th>\n",
       "      <td>Ahmed</td>\n",
       "      <td>Radwan</td>\n",
       "      <td>Ahmed Radwan</td>\n",
       "    </tr>\n",
       "    <tr>\n",
       "      <th>4</th>\n",
       "      <td>Mariam</td>\n",
       "      <td>Mazen</td>\n",
       "      <td>Mariam Mazen</td>\n",
       "    </tr>\n",
       "    <tr>\n",
       "      <th>5</th>\n",
       "      <td>Mustafa</td>\n",
       "      <td>Jalil</td>\n",
       "      <td>Mustafa Jalil</td>\n",
       "    </tr>\n",
       "  </tbody>\n",
       "</table>\n",
       "</div>"
      ],
      "text/plain": [
       "  first_name last_name       full_name\n",
       "0    Mustafa    Othman  Mustafa Othman\n",
       "1      Omnia  Abdullah  Omnia Abdullah\n",
       "2     Siddik    Burhan   Siddik Burhan\n",
       "3      Ahmed    Radwan    Ahmed Radwan\n",
       "4     Mariam     Mazen    Mariam Mazen\n",
       "5    Mustafa     Jalil   Mustafa Jalil"
      ]
     },
     "execution_count": 32,
     "metadata": {},
     "output_type": "execute_result"
    }
   ],
   "source": [
    "pd.read_sql(\"SELECT first_name,last_name,first_name||' '|| last_name as full_name from students\",con=conn)"
   ]
  },
  {
   "cell_type": "markdown",
   "id": "183bef35",
   "metadata": {},
   "source": [
    "### show count of data science topic"
   ]
  },
  {
   "cell_type": "code",
   "execution_count": 34,
   "id": "2cf139cc",
   "metadata": {},
   "outputs": [
    {
     "data": {
      "text/html": [
       "<div>\n",
       "<style scoped>\n",
       "    .dataframe tbody tr th:only-of-type {\n",
       "        vertical-align: middle;\n",
       "    }\n",
       "\n",
       "    .dataframe tbody tr th {\n",
       "        vertical-align: top;\n",
       "    }\n",
       "\n",
       "    .dataframe thead th {\n",
       "        text-align: right;\n",
       "    }\n",
       "</style>\n",
       "<table border=\"1\" class=\"dataframe\">\n",
       "  <thead>\n",
       "    <tr style=\"text-align: right;\">\n",
       "      <th></th>\n",
       "      <th>count(topic)</th>\n",
       "    </tr>\n",
       "  </thead>\n",
       "  <tbody>\n",
       "    <tr>\n",
       "      <th>0</th>\n",
       "      <td>2</td>\n",
       "    </tr>\n",
       "  </tbody>\n",
       "</table>\n",
       "</div>"
      ],
      "text/plain": [
       "   count(topic)\n",
       "0             2"
      ]
     },
     "execution_count": 34,
     "metadata": {},
     "output_type": "execute_result"
    }
   ],
   "source": [
    "pd.read_sql(\"SELECT count(topic) from students where topic == 'Data Science'\",con=conn)"
   ]
  },
  {
   "cell_type": "code",
   "execution_count": null,
   "id": "c754947f",
   "metadata": {},
   "outputs": [],
   "source": []
  }
 ],
 "metadata": {
  "kernelspec": {
   "display_name": "Python 3 (ipykernel)",
   "language": "python",
   "name": "python3"
  },
  "language_info": {
   "codemirror_mode": {
    "name": "ipython",
    "version": 3
   },
   "file_extension": ".py",
   "mimetype": "text/x-python",
   "name": "python",
   "nbconvert_exporter": "python",
   "pygments_lexer": "ipython3",
   "version": "3.9.7"
  }
 },
 "nbformat": 4,
 "nbformat_minor": 5
}
